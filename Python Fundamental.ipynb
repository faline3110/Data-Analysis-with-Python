{
 "cells": [
  {
   "cell_type": "markdown",
   "metadata": {},
   "source": [
    "# Python Fundamental \n",
    "### Reference \n",
    "#### https://pythonfordatascience.org/python-topics/\n",
    "#### https://www.w3schools.com/python/default.asp\n"
   ]
  },
  {
   "cell_type": "code",
   "execution_count": null,
   "metadata": {},
   "outputs": [],
   "source": [
    "# A comment, this is so you can read your program later.\n",
    "# Anything after the # is ignored by python."
   ]
  },
  {
   "cell_type": "code",
   "execution_count": null,
   "metadata": {
    "scrolled": false
   },
   "outputs": [],
   "source": [
    "#Python supports a number of numeric and nonnumeric values.\n",
    "print(10)\n",
    "10  # integer expression"
   ]
  },
  {
   "cell_type": "code",
   "execution_count": null,
   "metadata": {},
   "outputs": [],
   "source": [
    "print(hello world) # python cannot recognize. need to use single or doubel quotes"
   ]
  },
  {
   "cell_type": "markdown",
   "metadata": {},
   "source": [
    "### String\n",
    "A string is a sequence of characters and can be assigned by using quotes, either ‘Word’ or “Words” will work."
   ]
  },
  {
   "cell_type": "code",
   "execution_count": null,
   "metadata": {},
   "outputs": [],
   "source": [
    "print('hello world')\n",
    "#Python recognizes both single quotes (') and double quotes (\") as valid ways to delimit a string value.\n"
   ]
  },
  {
   "cell_type": "code",
   "execution_count": null,
   "metadata": {},
   "outputs": [],
   "source": [
    "# use “+” operator to concatenate\n",
    "a='hello'\n",
    "b='world'\n",
    "print(a+b)"
   ]
  },
  {
   "cell_type": "code",
   "execution_count": null,
   "metadata": {},
   "outputs": [],
   "source": [
    "# add a space\n",
    "print(a+' '+b)"
   ]
  },
  {
   "cell_type": "code",
   "execution_count": null,
   "metadata": {},
   "outputs": [],
   "source": [
    "# use type() to check the type of variable\n",
    "a='hello'\n",
    "c=1\n",
    "e=3.0\n",
    "type(a)"
   ]
  },
  {
   "cell_type": "code",
   "execution_count": null,
   "metadata": {},
   "outputs": [],
   "source": [
    "type(c)"
   ]
  },
  {
   "cell_type": "code",
   "execution_count": null,
   "metadata": {},
   "outputs": [],
   "source": [
    "type(e)"
   ]
  },
  {
   "cell_type": "code",
   "execution_count": null,
   "metadata": {},
   "outputs": [],
   "source": [
    "# print hello world 1\n",
    "a='hello'\n",
    "b='world'\n",
    "c=1"
   ]
  },
  {
   "cell_type": "code",
   "execution_count": null,
   "metadata": {},
   "outputs": [],
   "source": [
    "a='hello'\n",
    "b='world'\n",
    "c=1\n",
    "print(a+b+c)   ## error due to different type"
   ]
  },
  {
   "cell_type": "code",
   "execution_count": null,
   "metadata": {},
   "outputs": [],
   "source": [
    "#correct answer \n",
    "a='hello'\n",
    "b='world'\n",
    "c=1\n",
    "print(a+' '+b+' '+'1')\n",
    "print(a+' '+b+str(c)) "
   ]
  },
  {
   "cell_type": "markdown",
   "metadata": {},
   "source": [
    "###  Lists\n",
    "Lists in Python store multiple values in a single variable  \n",
    "Lists in python are denoted by brackets, and their elements are separated by commas.  \n",
    "The values can be mix types(numbers or character type values)"
   ]
  },
  {
   "cell_type": "code",
   "execution_count": null,
   "metadata": {},
   "outputs": [],
   "source": [
    "list=[1,2,4,5,6,'apple',4.0,'orange']"
   ]
  },
  {
   "cell_type": "code",
   "execution_count": null,
   "metadata": {},
   "outputs": [],
   "source": [
    "#we can use different name for a list \n",
    "fruit=['apple', 'blueberry','orange','cherry']"
   ]
  },
  {
   "cell_type": "code",
   "execution_count": null,
   "metadata": {},
   "outputs": [],
   "source": [
    "#Index --list(element)\n",
    "#Indexing what's the first fruit?"
   ]
  },
  {
   "cell_type": "code",
   "execution_count": null,
   "metadata": {},
   "outputs": [],
   "source": [
    "fruit[0]   # python index begins at 0"
   ]
  },
  {
   "cell_type": "code",
   "execution_count": null,
   "metadata": {},
   "outputs": [],
   "source": [
    "#How long is a list?\n",
    "#We can find out the length of lists with the .len() method\n",
    "len(fruit)"
   ]
  },
  {
   "cell_type": "code",
   "execution_count": null,
   "metadata": {},
   "outputs": [],
   "source": [
    "##Slice list[start:stop]\n",
    "fruit[0:2]"
   ]
  },
  {
   "cell_type": "code",
   "execution_count": null,
   "metadata": {},
   "outputs": [],
   "source": [
    "fruit=['apple', 'blueberry','orange','cherry']\n",
    "# how to get [blueberry','orange','cherry']? "
   ]
  },
  {
   "cell_type": "code",
   "execution_count": null,
   "metadata": {},
   "outputs": [],
   "source": [
    "#change one item in the fruit list\n",
    "fruit=['apple', 'blueberry','orange','cherry']\n",
    "fruit[0]='kiwi'\n",
    "fruit"
   ]
  },
  {
   "cell_type": "code",
   "execution_count": null,
   "metadata": {},
   "outputs": [],
   "source": [
    "#Add an element to the end of the list--list.append()\n",
    "fruit=['apple', 'blueberry','orange','cherry']\n",
    "fruit.append('banana')\n",
    "print(fruit)"
   ]
  },
  {
   "cell_type": "code",
   "execution_count": null,
   "metadata": {},
   "outputs": [],
   "source": [
    "#Concatenation means to combine, join, or add. \n",
    "#When you concatenate 2 lists, you are adding the list items together.\n",
    "fruit=['apple', 'blueberry','orange','cherry']\n",
    "kiwi=['kiwi',2019]\n",
    "fruit2=fruit+kiwi\n",
    "print(fruit2)"
   ]
  },
  {
   "cell_type": "code",
   "execution_count": null,
   "metadata": {},
   "outputs": [],
   "source": [
    "fruit=['apple', 'blueberry','orange','cherry']\n",
    "fruit.remove('apple')\n",
    "print(fruit)"
   ]
  },
  {
   "cell_type": "code",
   "execution_count": null,
   "metadata": {},
   "outputs": [],
   "source": [
    "#Insert an item at the defined index--list.insert(index, new element)\n",
    "fruit=['apple', 'blueberry','orange','cherry']\n",
    "fruit.insert(0,'kiwi')\n",
    "print(fruit)"
   ]
  },
  {
   "cell_type": "code",
   "execution_count": null,
   "metadata": {},
   "outputs": [],
   "source": [
    "#Delete an item at the defined index\n",
    "fruit=['apple', 'blueberry','orange','cherry']\n",
    "del fruit[0] \n",
    "print(fruit)"
   ]
  },
  {
   "cell_type": "code",
   "execution_count": null,
   "metadata": {},
   "outputs": [],
   "source": [
    "#list.sort() --Sort items in a list in ascending order\n",
    "fruit=['apple', 'blueberry','orange','cherry']\n",
    "fruit.sort()\n",
    "print(fruit)"
   ]
  },
  {
   "cell_type": "code",
   "execution_count": null,
   "metadata": {},
   "outputs": [],
   "source": [
    "#change the value of one item.\n",
    "fruit[1]='banana'\n",
    "fruit"
   ]
  },
  {
   "cell_type": "markdown",
   "metadata": {},
   "source": [
    "#### Question 1 "
   ]
  },
  {
   "cell_type": "code",
   "execution_count": null,
   "metadata": {},
   "outputs": [],
   "source": [
    "fruit=['apple', 'banana', 'cherry', 'orange']\n",
    "# how to get ['kiwi', 'banana', 'cherry']? \n",
    "# step one: change apple with kiwi\n",
    "# step two: keep the first three fruits"
   ]
  },
  {
   "cell_type": "code",
   "execution_count": null,
   "metadata": {},
   "outputs": [],
   "source": [
    "# Answer 1: \n"
   ]
  },
  {
   "cell_type": "markdown",
   "metadata": {
    "scrolled": false
   },
   "source": [
    "### Tuple\n",
    "\n",
    "A tuple is a collection which is ordered and unchangeable. \n",
    "Tuples are similar to lists, except tuples are immutable. \n"
   ]
  },
  {
   "cell_type": "code",
   "execution_count": null,
   "metadata": {},
   "outputs": [],
   "source": [
    "#In Python tuples are written with round brackets.\n",
    "tuple = (\"apple\", \"banana\", \"cherry\")"
   ]
  },
  {
   "cell_type": "code",
   "execution_count": null,
   "metadata": {},
   "outputs": [],
   "source": [
    "tuple[0]='kiwi' # Once we create tuple object, we cannot change that object’s contents. "
   ]
  },
  {
   "cell_type": "markdown",
   "metadata": {},
   "source": [
    "### Dictionaries\n",
    "\n",
    "A Python dictionary is an associative container which permits access based on a key, rather than an index.  \n",
    "\n",
    "We locate an element within a list or tuple based on its position (index).  \n",
    "\n",
    "Using dictionary, we can locate an element based on the key.   \n",
    "We should use a dictionary when we need fast and convenient access to an element of a collection based on a search key rather than an index"
   ]
  },
  {
   "cell_type": "code",
   "execution_count": null,
   "metadata": {},
   "outputs": [],
   "source": [
    "d = {} # Make an empty dictionary"
   ]
  },
  {
   "cell_type": "code",
   "execution_count": null,
   "metadata": {},
   "outputs": [],
   "source": [
    "dict ={\n",
    "    \"red\":\"apple\",\n",
    "    \"blue\":\"blueberry\",\n",
    "    'orange':\"orange\",\n",
    "    1:\"cherry\"\n",
    "}\n",
    "print(dict)"
   ]
  },
  {
   "cell_type": "code",
   "execution_count": null,
   "metadata": {},
   "outputs": [],
   "source": [
    "#Accessing Items\n",
    "#You can access the items of a dictionary by referring to its key name, inside square brackets:\n",
    "print(dict['red'])"
   ]
  },
  {
   "cell_type": "code",
   "execution_count": null,
   "metadata": {},
   "outputs": [],
   "source": [
    "dict[1]"
   ]
  },
  {
   "cell_type": "markdown",
   "metadata": {},
   "source": [
    "### Summary for list, tuple and dictionaries\n",
    "1. lists are written with square brackets. list=[ ]\n",
    "2. tuples are written with round brackets. Tuple=( ) objects that are immutable\n",
    "3. dictionaries are written with curly brackets, and they have keys and values. dict={ key: value }"
   ]
  },
  {
   "cell_type": "markdown",
   "metadata": {},
   "source": [
    "### For Loops and Iterations\n",
    "1. Iteration repeats the execution of a sequence of code\n",
    "\n",
    "2. Python has two primitive loop commands: while loops; for loops.\n",
    "\n",
    "#### For Loop\n",
    "for item in variable:   \n",
    "\n",
    "      do_something  \n"
   ]
  },
  {
   "cell_type": "code",
   "execution_count": null,
   "metadata": {},
   "outputs": [],
   "source": [
    "#To iterate through a String, is to go letter by letter\n",
    "str = \"apple\"\n",
    "for letter in str:\n",
    "    print(letter)"
   ]
  },
  {
   "cell_type": "code",
   "execution_count": null,
   "metadata": {},
   "outputs": [],
   "source": [
    "#To iterate through a list, is to go entry by entry\n",
    "list=['apple', 'blueberry','orange','cherry']\n",
    "for item in list:\n",
    "    print(item)"
   ]
  },
  {
   "cell_type": "code",
   "execution_count": null,
   "metadata": {},
   "outputs": [],
   "source": [
    "##To iterate through dictionary, is go through key by key, value by value, or key value by key value\n",
    "dict ={\n",
    "    \"red\":\"apple\",\n",
    "    \"blue\":\"blueberry\",\n",
    "    'orange':\"orange\",\n",
    "    1:\"cherry\"\n",
    "}\n",
    "print(dict)\n",
    "\n",
    "for key, value in dict.items():\n",
    "    print(value)"
   ]
  },
  {
   "cell_type": "code",
   "execution_count": null,
   "metadata": {},
   "outputs": [],
   "source": [
    "for key, value in dict.items():\n",
    "    print(key,value)"
   ]
  },
  {
   "cell_type": "markdown",
   "metadata": {},
   "source": [
    "#### Question 2 :"
   ]
  },
  {
   "cell_type": "code",
   "execution_count": null,
   "metadata": {},
   "outputs": [],
   "source": [
    "#list=['apple','kiwi','strawberry','banana']\n",
    "#How to get a new list:\n",
    "#['apple juice', 'banana juice', 'kiwi juice', 'strawberry juice']\n",
    "\n",
    " \n",
    "#Step 1: use for loop to get ['apple juice','kiwi juice','strawberry juice','banana juice']\n",
    "#Step 2:change the order of list\n"
   ]
  },
  {
   "cell_type": "markdown",
   "metadata": {},
   "source": [
    "### Python Conditions and IF statements:  If ... Else\n",
    "#### logical Conditions from mathematics\n",
    "Equals: a == b  \n",
    "Not Equals: a != b  \n",
    "Less than: a < b  \n",
    "Less than or equal to: a <= b  \n",
    "Greater than: a > b  \n",
    "Greater than or equal to: a >= b  "
   ]
  },
  {
   "cell_type": "code",
   "execution_count": null,
   "metadata": {},
   "outputs": [],
   "source": [
    "a=10\n",
    "b=5\n",
    "if a>b:\n",
    "    print('a is larger')"
   ]
  },
  {
   "cell_type": "code",
   "execution_count": null,
   "metadata": {},
   "outputs": [],
   "source": [
    "#adjust value of b, add else\n",
    "a=10\n",
    "b=20\n",
    "if a>b:\n",
    "    print('a is larger')\n",
    "else:\n",
    "    print('b is larger')\n"
   ]
  },
  {
   "cell_type": "code",
   "execution_count": null,
   "metadata": {},
   "outputs": [],
   "source": [
    "a=10\n",
    "b=10\n",
    "if a>b:\n",
    "    print('a is larger')\n",
    "elif a==b:\n",
    "    print('a equate b')\n",
    "else:\n",
    "    print('b is larger')"
   ]
  },
  {
   "cell_type": "code",
   "execution_count": null,
   "metadata": {},
   "outputs": [],
   "source": [
    "#Python input() Function\n",
    "#input(): A String, representing a default message before the input.\n",
    "x=input('enter your name:')\n"
   ]
  },
  {
   "cell_type": "code",
   "execution_count": null,
   "metadata": {},
   "outputs": [],
   "source": [
    "print('hello'+' '+ x)"
   ]
  },
  {
   "cell_type": "code",
   "execution_count": null,
   "metadata": {},
   "outputs": [],
   "source": [
    "# let's try entering the number to compare with the value of a\n",
    "b=input('enter your b:')\n"
   ]
  },
  {
   "cell_type": "code",
   "execution_count": null,
   "metadata": {},
   "outputs": [],
   "source": [
    "a=10\n",
    "if a>b:\n",
    "    print(a)\n",
    "# you will see an type error.   use type() to check the type.\n"
   ]
  },
  {
   "cell_type": "code",
   "execution_count": null,
   "metadata": {},
   "outputs": [],
   "source": [
    "type(a),type(b)\n",
    "#Note: whatever you enter as input, input function convert it into a string\n"
   ]
  },
  {
   "cell_type": "code",
   "execution_count": null,
   "metadata": {},
   "outputs": [],
   "source": [
    "# use int() to change the type of b to integer\n",
    "# input an integer\n",
    "a=10\n",
    "b=int(input('enter your number:'))  \n",
    "if a>b:\n",
    "    print('a is larger')\n",
    "elif a==b:\n",
    "    print('a equate your number')\n",
    "else:\n",
    "    print('your number is larger')\n"
   ]
  },
  {
   "cell_type": "code",
   "execution_count": null,
   "metadata": {},
   "outputs": [],
   "source": [
    " #use float to change the type of b to float\n",
    "# input an float\n",
    "a=10\n",
    "b=float(input('enter your number:'))\n",
    "if a>b:\n",
    "    print('a is larger')\n",
    "elif a==b:\n",
    "    print('a equate your number')\n",
    "else:\n",
    "    print('your number is larger')"
   ]
  },
  {
   "cell_type": "markdown",
   "metadata": {},
   "source": [
    "###  function \n",
    "\n",
    "A function is a block of code which only runs when it is called.  \n",
    "You can pass data, known as parameters, into a function.  \n",
    "A function can return data as a result.  \n"
   ]
  },
  {
   "cell_type": "code",
   "execution_count": null,
   "metadata": {},
   "outputs": [],
   "source": [
    "def my_function():\n",
    "    print('hello from a function')\n"
   ]
  },
  {
   "cell_type": "code",
   "execution_count": null,
   "metadata": {},
   "outputs": [],
   "source": [
    "my_function()"
   ]
  },
  {
   "cell_type": "code",
   "execution_count": null,
   "metadata": {},
   "outputs": [],
   "source": [
    "def list_function(list):\n",
    "    for x in list:\n",
    "        print(x)  "
   ]
  },
  {
   "cell_type": "code",
   "execution_count": null,
   "metadata": {},
   "outputs": [],
   "source": [
    "list1=['apple','banana','kiwi']\n",
    "list_function(list1)"
   ]
  },
  {
   "cell_type": "code",
   "execution_count": null,
   "metadata": {},
   "outputs": [],
   "source": [
    "list2=['apple','banana','kiwi','apple','banana','kiwi']\n",
    "list_function(list2)"
   ]
  },
  {
   "cell_type": "code",
   "execution_count": null,
   "metadata": {},
   "outputs": [],
   "source": [
    "#To let a function return a value, use the return statement:\n",
    "def square(a=2): #\n",
    "    return a*a\n"
   ]
  },
  {
   "cell_type": "code",
   "execution_count": null,
   "metadata": {},
   "outputs": [],
   "source": [
    "# a=2 is the default value. \n",
    "square()\n"
   ]
  },
  {
   "cell_type": "code",
   "execution_count": null,
   "metadata": {},
   "outputs": [],
   "source": [
    "# let a =10\n",
    "square(10)"
   ]
  },
  {
   "cell_type": "code",
   "execution_count": null,
   "metadata": {},
   "outputs": [],
   "source": [
    "#define 'plus()' with required arguments\n",
    "def plus(a,b):\n",
    "    return a+b"
   ]
  },
  {
   "cell_type": "code",
   "execution_count": null,
   "metadata": {},
   "outputs": [],
   "source": [
    "plus(b=4,a=1)"
   ]
  },
  {
   "cell_type": "markdown",
   "metadata": {},
   "source": [
    "#### Answer "
   ]
  },
  {
   "cell_type": "code",
   "execution_count": null,
   "metadata": {},
   "outputs": [],
   "source": [
    "# Answer for quesiton 1: \n",
    "fruit[0]='kiwi'\n",
    "fruit[:3]"
   ]
  },
  {
   "cell_type": "code",
   "execution_count": null,
   "metadata": {},
   "outputs": [],
   "source": [
    "# Answer for quesiton 2: \n",
    "#step1\n",
    "list=['apple','kiwi','strawberry','banana']\n",
    "for i in range(4):\n",
    "  fruit[i]=list[i]+\" \"+'juice'\n",
    "print (fruit) \n",
    "#step2\n",
    "fruit.sort()\n",
    "print(fruit)\n"
   ]
  },
  {
   "cell_type": "code",
   "execution_count": null,
   "metadata": {},
   "outputs": [],
   "source": []
  }
 ],
 "metadata": {
  "kernelspec": {
   "display_name": "Python 3",
   "language": "python",
   "name": "python3"
  },
  "language_info": {
   "codemirror_mode": {
    "name": "ipython",
    "version": 3
   },
   "file_extension": ".py",
   "mimetype": "text/x-python",
   "name": "python",
   "nbconvert_exporter": "python",
   "pygments_lexer": "ipython3",
   "version": "3.7.4"
  }
 },
 "nbformat": 4,
 "nbformat_minor": 2
}
