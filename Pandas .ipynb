{
 "cells": [
  {
   "cell_type": "markdown",
   "metadata": {},
   "source": [
    "### Pandas\n",
    "Pandas is built on top of Numpy, enhances numpy with:    \n",
    "1)data labels and descriptive indices   \n",
    "2)robust handling of commomn data formats and missing data    \n",
    "https://pandas.pydata.org/docs/user_guide/index.html"
   ]
  },
  {
   "cell_type": "code",
   "execution_count": null,
   "metadata": {},
   "outputs": [],
   "source": [
    "#import pandas package. use pd as the nick name for pandas \n",
    "import pandas as pd\n",
    "import numpy as np"
   ]
  },
  {
   "cell_type": "markdown",
   "metadata": {},
   "source": [
    "#### We can analyze data in pandas with:\n",
    "\n",
    "1)Series  \n",
    "2)DataFrames  "
   ]
  },
  {
   "cell_type": "code",
   "execution_count": null,
   "metadata": {},
   "outputs": [],
   "source": [
    "Data =[0,1,4,9,16]  # Numeric data \n",
    "\n",
    "# Creating series with default index values \n",
    "s = pd.Series(Data)     \n",
    "\n",
    "#Scalar Data with default Index\n",
    "s"
   ]
  },
  {
   "cell_type": "code",
   "execution_count": null,
   "metadata": {},
   "outputs": [],
   "source": [
    "s.index"
   ]
  },
  {
   "cell_type": "code",
   "execution_count": null,
   "metadata": {},
   "outputs": [],
   "source": [
    "# # Creating series with predefined index values and name \n",
    "Index=['a','b','c','d','e']\n",
    "s=pd.Series(Data,Index)\n",
    "s"
   ]
  },
  {
   "cell_type": "code",
   "execution_count": null,
   "metadata": {},
   "outputs": [],
   "source": [
    "s.index"
   ]
  },
  {
   "cell_type": "code",
   "execution_count": null,
   "metadata": {},
   "outputs": [],
   "source": [
    "# Views unique values and counts\n",
    "Data =[0,1,4,9,16,4,4] \n",
    "s = pd.Series(Data)     \n",
    "s.value_counts(dropna=False)"
   ]
  },
  {
   "cell_type": "markdown",
   "metadata": {},
   "source": [
    "DataFrames:  \n",
    "DataFrames is two-dimensional data structure defined in pandas which consists of rows and columns.     \n",
    "pd.DataFrame(data, index, columns, dtype, copy)"
   ]
  },
  {
   "cell_type": "code",
   "execution_count": null,
   "metadata": {},
   "outputs": [],
   "source": [
    "data={'Name':['A','B','C','D'],\n",
    "     'age':[27,24,22,32],\n",
    "     'address':['PA','NY','PA','MA'],\n",
    "     'Edu':['MS','MA','Ba','Phd']}\n",
    "data"
   ]
  },
  {
   "cell_type": "code",
   "execution_count": null,
   "metadata": {},
   "outputs": [],
   "source": [
    "# Convert the dictionary into DataFrame  \n",
    "df=pd.DataFrame(data)\n",
    "df"
   ]
  },
  {
   "cell_type": "code",
   "execution_count": null,
   "metadata": {},
   "outputs": [],
   "source": [
    "df = pd.DataFrame(data,index=['a','b','c','d']) \n",
    "df"
   ]
  },
  {
   "cell_type": "code",
   "execution_count": null,
   "metadata": {},
   "outputs": [],
   "source": [
    "df.shape"
   ]
  },
  {
   "cell_type": "code",
   "execution_count": null,
   "metadata": {},
   "outputs": [],
   "source": [
    "#index by number(implicit value)\n",
    "#The iloc attribute allows to use implicit value as index\n",
    "df.iloc[0]"
   ]
  },
  {
   "cell_type": "code",
   "execution_count": null,
   "metadata": {},
   "outputs": [],
   "source": [
    "#slice by number(implicit value)\n",
    "df.iloc[0:2]"
   ]
  },
  {
   "cell_type": "code",
   "execution_count": null,
   "metadata": {},
   "outputs": [],
   "source": [
    "df[0:2]"
   ]
  },
  {
   "cell_type": "code",
   "execution_count": null,
   "metadata": {},
   "outputs": [],
   "source": [
    "#use loc to make clear that you use explicit values as index.\n",
    "df.loc[:'c']\n",
    "#A slice object with labels: both the start and the stop are included."
   ]
  },
  {
   "cell_type": "code",
   "execution_count": null,
   "metadata": {},
   "outputs": [],
   "source": [
    "df['Edu']"
   ]
  },
  {
   "cell_type": "markdown",
   "metadata": {},
   "source": [
    "### Import and Export data"
   ]
  },
  {
   "cell_type": "markdown",
   "metadata": {},
   "source": [
    "#### Import data\n",
    "```\n",
    "pd.read_csv(filename) # From a CSV file\n",
    "pd.read_table(filename) # From a delimited text file (like TSV)\n",
    "pd.read_excel(filename) # From an Excel file\n",
    "pd.read_sql(query, connection_object) # Reads from a SQL table/database\n",
    "pd.read_json(json_string) # Reads from a JSON formatted string, URL or file.\n",
    "pd.read_html(url) # Parses an html URL, string or file and extracts tables to a list of dataframes\n",
    "pd.read_clipboard() # Takes the contents of your clipboard and passes it to read_table()\n",
    "pd.DataFrame(dict) # From a dict, keys for columns names, values for data as lists\n",
    "pd.read_stata(filename) # From a stata file\n",
    "```"
   ]
  },
  {
   "cell_type": "code",
   "execution_count": null,
   "metadata": {},
   "outputs": [],
   "source": [
    "un=pd.read_csv('/Users/huilin/Desktop/unemployment.csv')\n",
    "un"
   ]
  },
  {
   "cell_type": "markdown",
   "metadata": {},
   "source": [
    "### Explore Data\n",
    "```\n",
    "df.shape # Prints number of rows and columns in dataframe\n",
    "df.head(n) # Prints first n rows of the DataFrame\n",
    "df.tail(n) # Prints last n rows of the DataFrame\n",
    "df.info() # Index, Datatype and Memory information\n",
    "df.describe() # Summary statistics for numerical columns\n",
    "df.describe() # Summary statistics for numerical columns\n",
    "df.mean() # Returns the mean of all columns\n",
    "df.corr() # Returns the correlation between columns in a DataFrame\n",
    "df.count() # Returns the number of non-null values in each DataFrame column\n",
    "df.max() # Returns the highest value in each column\n",
    "df.min() # Returns the lowest value in each column\n",
    "df.median() # Returns the median of each column\n",
    "df.std() # Returns the standard deviation of each column\n",
    "s.value_counts(dropna=False) # Views unique values and counts\n",
    "```"
   ]
  },
  {
   "cell_type": "code",
   "execution_count": null,
   "metadata": {},
   "outputs": [],
   "source": [
    "un.shape()"
   ]
  },
  {
   "cell_type": "code",
   "execution_count": null,
   "metadata": {},
   "outputs": [],
   "source": [
    "un.head()\n",
    "# show the very beginning of the frame"
   ]
  },
  {
   "cell_type": "code",
   "execution_count": null,
   "metadata": {},
   "outputs": [],
   "source": [
    "#input stata file data\n",
    "children=pd.read_stata('/Users/huilin/desktop/children_merge.dta')\n",
    "children"
   ]
  },
  {
   "cell_type": "markdown",
   "metadata": {},
   "source": [
    "#### Export data:\n",
    "```\n",
    "df.to_csv(filename)   # Writes to a CSV file    \n",
    "df.to_excel(filename)   # Writes to an Excel file    \n",
    "df.to_sql(table_name, connection_object)    # Writes to a SQL table    \n",
    "df.to_json(filename)    # Writes to a file in JSON format   \n",
    "df.to_html(filename)    # Saves as an HTML table   \n",
    "df.to_clipboard()     # Writes to the clipboard   \n",
    "```"
   ]
  },
  {
   "cell_type": "code",
   "execution_count": null,
   "metadata": {},
   "outputs": [],
   "source": [
    "# export data as .csv to desktop\n",
    "# df.to_csv(r'Path where you want to store the exported CSV file\\File Name.csv') //for windows use r\"\"\n",
    "# mac option copy path, pa\n",
    "children.to_csv('/Users/huilin/Downloads/children_merge.csv')"
   ]
  },
  {
   "cell_type": "markdown",
   "metadata": {},
   "source": [
    "####  Upload files from your local file system if you use google colab\n",
    "```\n",
    "from google.colab import files\n",
    "\n",
    "uploaded = files.upload()\n",
    "\n",
    "for fn in uploaded.keys():\n",
    "  print('User uploaded file \"{name}\" with length {length} bytes'.format(  \n",
    "      name=fn, length=len(uploaded[fn])))\n",
    "      \n",
    "``` \n",
    "####  Downloading files to your local file system if you use google colab\n",
    "```\n",
    "from google.colab import files\n",
    "\n",
    "with open('file', 'w') as f:\n",
    "  f.write('some content')\n",
    "\n",
    "files.download('file')\n",
    "```"
   ]
  },
  {
   "cell_type": "markdown",
   "metadata": {},
   "source": [
    "### Adjust data"
   ]
  },
  {
   "cell_type": "code",
   "execution_count": null,
   "metadata": {},
   "outputs": [],
   "source": [
    "#Input data with different format\n",
    "# https://pandas.pydata.org/pandas-docs/stable/reference/io.html\n",
    "# df=pandas.read_stata('')\n",
    "children = pd.read_stata('/Users/huilin/Desktop/children_merge.dta')\n"
   ]
  },
  {
   "cell_type": "markdown",
   "metadata": {},
   "source": [
    "Data set –child_merge\n",
    "idind_c: INDIVIDUAL ID   \n",
    "idind_f: FATHER'S INDIVIDUAL ID   \n",
    "idind_m: MOTHER'S INDIVIDUAL ID   \n",
    "wave: SURVEY YEAR   \n",
    "a11_c: Completed Years of Formal Ed. in Regular School   \n",
    "a12_c: Highest Level of Education Attained   \n",
    "age_c: Calculated Age in Years to 0 Decimal Points   \n",
    "gender_c: GENDER  (gender=1 for male; gender=2 for female) \n",
    "health_c: CURRENT HEALTH STATUS (SELF-REPORT)    \n",
    "hhinc_pc_c: Per capita household income   \n",
    "wage_c: AVERAGE MONTHLY WAGE LAST YEAR   \n",
    "late_ben: policy indicator    (late_ben=1 if this group is affected by policy; otherwise 0 )\n",
    "BMI_c: body weight index"
   ]
  },
  {
   "cell_type": "markdown",
   "metadata": {},
   "source": [
    "### index"
   ]
  },
  {
   "cell_type": "code",
   "execution_count": null,
   "metadata": {},
   "outputs": [],
   "source": [
    "children"
   ]
  },
  {
   "cell_type": "code",
   "execution_count": null,
   "metadata": {},
   "outputs": [],
   "source": [
    "children.dtypes"
   ]
  },
  {
   "cell_type": "code",
   "execution_count": null,
   "metadata": {},
   "outputs": [],
   "source": [
    "#change the column type\n",
    "children.astype({'wave': 'int32'}).dtypes"
   ]
  },
  {
   "cell_type": "code",
   "execution_count": null,
   "metadata": {},
   "outputs": [],
   "source": [
    "#.set_index([,])\n",
    "ch_wave=children.set_index(['wave'])  \n",
    "ch_wave"
   ]
  },
  {
   "cell_type": "code",
   "execution_count": null,
   "metadata": {},
   "outputs": [],
   "source": [
    "ch_wave.loc[2011]"
   ]
  },
  {
   "cell_type": "code",
   "execution_count": null,
   "metadata": {},
   "outputs": [],
   "source": [
    "ch_wave.loc[2011].shape"
   ]
  },
  {
   "cell_type": "code",
   "execution_count": null,
   "metadata": {},
   "outputs": [],
   "source": [
    "#another way to set index \n",
    "ch_wave1=pd.read_stata('/Users/huilin/Desktop/children_merge.dta', index_col='wave')\n",
    "ch_wave1"
   ]
  },
  {
   "cell_type": "code",
   "execution_count": null,
   "metadata": {},
   "outputs": [],
   "source": [
    "#changing an index\n",
    "children = pd.read_stata('/Users/huilin/Desktop/children_merge.dta')\n",
    "ch_gender_age=children.set_index(['gender_c', 'age_c']).sort_index()\n",
    "ch_gender_age"
   ]
  },
  {
   "cell_type": "code",
   "execution_count": null,
   "metadata": {
    "scrolled": true
   },
   "outputs": [],
   "source": [
    "#gender=1 for male; gender=2 for female\n",
    "## hwo to get data for 2 year old boy \n",
    "ch_gender_age.loc[].loc[].describe()"
   ]
  },
  {
   "cell_type": "code",
   "execution_count": null,
   "metadata": {},
   "outputs": [],
   "source": [
    "# filter data for 10 years old children\n",
    "children = pd.read_stata('/Users/huilin/Desktop/children_merge.dta')\n",
    "children_10 = children[children['age_c'] == 10]"
   ]
  },
  {
   "cell_type": "code",
   "execution_count": null,
   "metadata": {},
   "outputs": [],
   "source": [
    "# filter data excluding 10 years old children\n",
    "children = pd.read_stata('/Users/huilin/Desktop/children_merge.dta')\n",
    "children_10_remainder = children[children['age_c'] != 10]\n",
    "children_10_remainder"
   ]
  },
  {
   "cell_type": "code",
   "execution_count": null,
   "metadata": {},
   "outputs": [],
   "source": [
    "# sort by age directly\n",
    "children.sort_values('age_c')"
   ]
  },
  {
   "cell_type": "code",
   "execution_count": null,
   "metadata": {},
   "outputs": [],
   "source": [
    "## Adjust Data\n",
    "import pandas as pd"
   ]
  },
  {
   "cell_type": "code",
   "execution_count": null,
   "metadata": {},
   "outputs": [],
   "source": [
    "children = pd.read_stata('/Users/huilin/Desktop/children_merge.dta')\n",
    "children"
   ]
  },
  {
   "cell_type": "code",
   "execution_count": null,
   "metadata": {},
   "outputs": [],
   "source": [
    "#rename column, more meaningful\n",
    "ch_rename=children.rename(columns={\"year_c\":\"birth year\",\"gender_c\":\"gender\",\"age_c\":\"age\", \"hhinc_pc_c\": \"household income\", \"BMI_c\": \"BMI\",\"late_ben\":\"policy\"})\n",
    "ch_rename"
   ]
  },
  {
   "cell_type": "code",
   "execution_count": null,
   "metadata": {},
   "outputs": [],
   "source": [
    "# add a new column \n",
    "#Natural log of the column is computed using log() function \n",
    "#and stored in a new column namely “log_value”  as shown below.\n",
    "ch_add=ch_rename\n",
    "ch_add['log_BMI'] = np.log(ch_add['BMI'])\n"
   ]
  },
  {
   "cell_type": "code",
   "execution_count": null,
   "metadata": {},
   "outputs": [],
   "source": [
    "#Question:\n",
    "#how to get a new column, Income=household income level divided by 1000? \n",
    "ch_add['Income']=\n",
    "\n"
   ]
  },
  {
   "cell_type": "code",
   "execution_count": null,
   "metadata": {},
   "outputs": [],
   "source": [
    "#drop some column not useful\n",
    "ch_drop_columns=ch_add.drop(['a11_c', 'a12_c','health_c','wage_c','nchild','household income'], axis=1)\n",
    "ch_drop_columns"
   ]
  },
  {
   "cell_type": "code",
   "execution_count": null,
   "metadata": {},
   "outputs": [],
   "source": [
    "# drop age at 30\n",
    "#1 define age as the index and sort\n",
    "ch_index_age=\n"
   ]
  },
  {
   "cell_type": "code",
   "execution_count": null,
   "metadata": {},
   "outputs": [],
   "source": [
    "#2. drop age group 30 \n",
    "\n"
   ]
  },
  {
   "cell_type": "code",
   "execution_count": null,
   "metadata": {},
   "outputs": [],
   "source": [
    "#Get data for children 0-18\n",
    "ch_age18=ch_index_age.loc[0:18]\n",
    "ch_age18"
   ]
  },
  {
   "cell_type": "code",
   "execution_count": null,
   "metadata": {},
   "outputs": [],
   "source": [
    "#drop missing value\n",
    "ch_missing=ch_age18.dropna(axis=0)  #drop observation, so choose axis=0\n",
    "ch_missing"
   ]
  },
  {
   "cell_type": "code",
   "execution_count": null,
   "metadata": {},
   "outputs": [],
   "source": [
    "#reset index\n",
    "child=ch_missing.reset_index()\n",
    "child"
   ]
  },
  {
   "cell_type": "code",
   "execution_count": null,
   "metadata": {},
   "outputs": [],
   "source": [
    "#save this new data \n",
    "ch_missing.to_csv('/Users/huilin/desktop/child.csv')"
   ]
  },
  {
   "cell_type": "code",
   "execution_count": null,
   "metadata": {},
   "outputs": [],
   "source": [
    "# get the new data\n",
    "child=pd.read_csv('/Users/huilin/desktop/child.csv')\n",
    "child"
   ]
  },
  {
   "cell_type": "code",
   "execution_count": null,
   "metadata": {},
   "outputs": [],
   "source": []
  }
 ],
 "metadata": {
  "kernelspec": {
   "display_name": "Python 3",
   "language": "python",
   "name": "python3"
  },
  "language_info": {
   "codemirror_mode": {
    "name": "ipython",
    "version": 3
   },
   "file_extension": ".py",
   "mimetype": "text/x-python",
   "name": "python",
   "nbconvert_exporter": "python",
   "pygments_lexer": "ipython3",
   "version": "3.7.4"
  }
 },
 "nbformat": 4,
 "nbformat_minor": 2
}
