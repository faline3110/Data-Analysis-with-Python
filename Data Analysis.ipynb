{
 "cells": [
  {
   "cell_type": "code",
   "execution_count": null,
   "metadata": {},
   "outputs": [],
   "source": [
    "# https://www.learndatasci.com/tutorials/python-pandas-tutorial-complete-introduction-for-beginners/\n",
    "# https://www.geeksforgeeks.org/python-read-csv-using-pandas-read_csv/\n",
    "# https://pandas.pydata.org/pandas-docs/stable/reference/io.html\n",
    "import pandas as pd\n",
    "import numpy as np\n"
   ]
  },
  {
   "cell_type": "code",
   "execution_count": null,
   "metadata": {},
   "outputs": [],
   "source": [
    "#Input data with different format\n",
    "# https://pandas.pydata.org/pandas-docs/stable/reference/io.html\n",
    "# df=pandas.read_stata('')\n",
    "child=pd.read_csv('/Users/huilin/desktop/child.csv')"
   ]
  },
  {
   "cell_type": "markdown",
   "metadata": {},
   "source": [
    "####  Upload files from your local file system if you use google colab\n",
    "```\n",
    "from google.colab import files\n",
    "\n",
    "uploaded = files.upload()\n",
    "\n",
    "for fn in uploaded.keys():\n",
    "  print('User uploaded file \"{name}\" with length {length} bytes'.format(  \n",
    "      name=fn, length=len(uploaded[fn])))\n",
    "      \n",
    "``` \n",
    "####  Downloading files to your local file system if you use google colab\n",
    "```\n",
    "from google.colab import files\n",
    "\n",
    "with open('file', 'w') as f:\n",
    "  f.write('some content')\n",
    "\n",
    "files.download('file')\n",
    "```"
   ]
  },
  {
   "cell_type": "markdown",
   "metadata": {},
   "source": [
    "### basic analysis "
   ]
  },
  {
   "cell_type": "code",
   "execution_count": null,
   "metadata": {},
   "outputs": [],
   "source": [
    "child"
   ]
  },
  {
   "cell_type": "code",
   "execution_count": null,
   "metadata": {},
   "outputs": [],
   "source": [
    "#Describing a DataFrame\n",
    "child.describe()"
   ]
  },
  {
   "cell_type": "code",
   "execution_count": null,
   "metadata": {},
   "outputs": [],
   "source": [
    "child.mean()"
   ]
  },
  {
   "cell_type": "code",
   "execution_count": null,
   "metadata": {},
   "outputs": [],
   "source": [
    "# group by gender. gender = 1.0 if male; 2.0 if female\n",
    "child.groupby('gender').mean()"
   ]
  },
  {
   "cell_type": "code",
   "execution_count": null,
   "metadata": {},
   "outputs": [],
   "source": [
    "child_mean=child.groupby(['gender','age']).mean()\n",
    "child_mean\n"
   ]
  },
  {
   "cell_type": "code",
   "execution_count": null,
   "metadata": {},
   "outputs": [],
   "source": [
    "# check the mean value for 5 year old boy\n",
    "child_mean.loc[ ].loc[ ]"
   ]
  },
  {
   "cell_type": "markdown",
   "metadata": {},
   "source": [
    "Create a pivot table as a DataFrame\n",
    "pandas.pivot_table(data, values=None, index=None, columns=None, aggfunc='mean', fill_value=None, margins=False, dropna=True, margins_name='All', observed=False)\n",
    "\n",
    "[source]\n",
    "\n",
    "https://pandas.pydata.org/pandas-docs/stable/reference/api/pandas.pivot_table.html"
   ]
  },
  {
   "cell_type": "code",
   "execution_count": null,
   "metadata": {},
   "outputs": [],
   "source": [
    "pd.pivot_table(child,values='BMI',index='age',columns='policy')"
   ]
  },
  {
   "cell_type": "code",
   "execution_count": null,
   "metadata": {},
   "outputs": [],
   "source": [
    "pd.pivot_table(child,'BMI',['gender','age'],'policy',aggfunc=([min, max, np.mean]))"
   ]
  },
  {
   "cell_type": "markdown",
   "metadata": {},
   "source": [
    "## Data Visualization "
   ]
  },
  {
   "cell_type": "code",
   "execution_count": null,
   "metadata": {},
   "outputs": [],
   "source": [
    "import numpy as np\n",
    "import matplotlib.pyplot as plt\n",
    "import pandas as pd\n"
   ]
  },
  {
   "cell_type": "code",
   "execution_count": null,
   "metadata": {},
   "outputs": [],
   "source": [
    "%matplotlib inline"
   ]
  },
  {
   "cell_type": "code",
   "execution_count": null,
   "metadata": {},
   "outputs": [],
   "source": [
    "child=pd.read_csv('/Users/huilin/desktop/child.csv')\n",
    "child"
   ]
  },
  {
   "cell_type": "code",
   "execution_count": null,
   "metadata": {},
   "outputs": [],
   "source": [
    "# check the relationship between BMI and age in graph\n",
    "ch1 = pd.DataFrame(child,columns=['BMI','age'])\n",
    "ch1"
   ]
  },
  {
   "cell_type": "code",
   "execution_count": null,
   "metadata": {},
   "outputs": [],
   "source": [
    "ch1.plot()"
   ]
  },
  {
   "cell_type": "code",
   "execution_count": null,
   "metadata": {},
   "outputs": [],
   "source": [
    "ch11=ch1.set_index('age')\n",
    "ch11"
   ]
  },
  {
   "cell_type": "code",
   "execution_count": null,
   "metadata": {},
   "outputs": [],
   "source": [
    "names=ch11.index\n",
    "values=ch11.values\n",
    "plt.scatter(ch11.index,ch11.values)"
   ]
  },
  {
   "cell_type": "code",
   "execution_count": null,
   "metadata": {},
   "outputs": [],
   "source": [
    "ch3 = pd.DataFrame(child,columns=['birth year','Income'])\n",
    "ch4=ch3.set_index('birth year').sort_index()\n",
    "ch4.plot()"
   ]
  },
  {
   "cell_type": "code",
   "execution_count": null,
   "metadata": {},
   "outputs": [],
   "source": [
    "# subplot(m,n,p): (row, column, position)\n",
    "fig=plt.figure()\n",
    "plt.subplot(121) # have one row and two columns worth of figures. p=1: place the plot in the left\n",
    "plt.scatter(ch11.index,ch11.values)\n",
    "plt.subplot(122) # # have one row and two columns worth of figures. p=2: place the plot in the left\n",
    "plt.plot(ch4.index,ch4.values)\n",
    "plt.suptitle('combine figure')\n",
    "plt.show()"
   ]
  },
  {
   "cell_type": "code",
   "execution_count": null,
   "metadata": {},
   "outputs": [],
   "source": [
    "# seaborn is based on matplotlib.pyplot\n",
    "# https://seaborn.pydata.org/tutorial.html\n",
    "\n",
    "import seaborn as sns\n"
   ]
  },
  {
   "cell_type": "code",
   "execution_count": null,
   "metadata": {},
   "outputs": [],
   "source": [
    "#a bar plot shows only the mean (or other estimator) value\n",
    "sns.set(style='darkgrid') \n",
    "sns.barplot(x='BMI',y='age',data=child,orient='h')          \n",
    "plt.show()\n"
   ]
  },
  {
   "cell_type": "code",
   "execution_count": null,
   "metadata": {},
   "outputs": [],
   "source": [
    "##histogram\n",
    "#distributions and plot the estimated PDF over the data.\n",
    "#This function combines the matplotlib hist function and rugplot() function\n",
    "sns.distplot(child['BMI'],bins=50,color='k')\n",
    "plt.show()"
   ]
  },
  {
   "cell_type": "code",
   "execution_count": null,
   "metadata": {},
   "outputs": [],
   "source": [
    "#scatter plot\n",
    "#It depicts the joint distribution of two variables\n",
    "child\n",
    "sns.regplot('age','BMI',data=child)                       #sns plot scatter\n",
    "plt.title('Changes in %s versus %s' % ('BMI','age'))     #scatter plot title,axis\n",
    "plt.show()"
   ]
  },
  {
   "cell_type": "markdown",
   "metadata": {},
   "source": [
    "### seaborn.pairplot\n",
    " A pairs plot allows us to see both distribution of single variables and relationships between two variables.\n",
    " https://towardsdatascience.com/visualizing-data-with-pair-plots-in-python-f228cf529166\n",
    " \n",
    "seaborn.pairplot(data, hue=None, hue_order=None, palette=None, vars=None, x_vars=None, y_vars=None, kind='scatter', diag_kind='auto', markers=None, height=2.5, aspect=1, dropna=True, plot_kws=None, diag_kws=None, grid_kws=None, size=None)\n",
    "Plot pairwise relationships in a dataset.\n",
    "https://seaborn.pydata.org/generated/seaborn.pairplot.html"
   ]
  },
  {
   "cell_type": "code",
   "execution_count": null,
   "metadata": {},
   "outputs": [],
   "source": [
    "#diag_kind: kind of plot for the diagonal subplots. kde:a kernel density estimate \n",
    "data = child[['BMI','age','Income','policy']]\n",
    "sns.pairplot(data,diag_kind='kde',plot_kws={'alpha':0.3})   \n",
    "plt.show()"
   ]
  },
  {
   "cell_type": "markdown",
   "metadata": {},
   "source": [
    "### seaborn.catplot\n",
    "Make many column facets and wrap them into the rows of the grid:\n",
    "seaborn.catplot(x=None, y=None, hue=None, data=None, row=None, col=None, col_wrap=None, estimator=<function mean>, ci=95, n_boot=1000, units=None, order=None, hue_order=None, row_order=None, col_order=None, kind='strip', height=5, aspect=1, orient=None, color=None, palette=None, legend=True, legend_out=True, sharex=True, sharey=True, margin_titles=False, facet_kws=None, **kwargs)\n",
    "Figure-level interface for drawing categorical plots onto a FacetGrid.\n",
    "Make many column facets and wrap them into the rows of the grid:\n",
    "https://seaborn.pydata.org/generated/seaborn.catplot.html"
   ]
  },
  {
   "cell_type": "code",
   "execution_count": null,
   "metadata": {},
   "outputs": [],
   "source": [
    "# hue_order: Order to plot the categorical levels in\n",
    "sns.catplot(x='gender', y='BMI', hue='policy', col='age',col_wrap=3, kind='bar', data=child)"
   ]
  },
  {
   "cell_type": "markdown",
   "metadata": {},
   "source": [
    "## regression"
   ]
  },
  {
   "cell_type": "code",
   "execution_count": null,
   "metadata": {},
   "outputs": [],
   "source": [
    "#https://www.statsmodels.org/stable/index.html\n",
    "#https://towardsdatascience.com/simple-and-multiple-linear-regression-in-python-c928425168f9\n",
    "\n",
    "import statsmodels.api as sm\n"
   ]
  },
  {
   "cell_type": "code",
   "execution_count": null,
   "metadata": {},
   "outputs": [],
   "source": [
    "r=pd.DataFrame(child, columns=['age','Income','policy','gender',\"BMI\",\"log_BMI\"])"
   ]
  },
  {
   "cell_type": "code",
   "execution_count": null,
   "metadata": {},
   "outputs": [],
   "source": [
    "r.hist()"
   ]
  },
  {
   "cell_type": "code",
   "execution_count": null,
   "metadata": {},
   "outputs": [],
   "source": [
    "df=pd.DataFrame(r, columns=['age','Income','policy','gender'])\n",
    "# define the data/predictors as the pre-set feature names  \n",
    "df"
   ]
  },
  {
   "cell_type": "code",
   "execution_count": null,
   "metadata": {},
   "outputs": [],
   "source": [
    "# Put the target (BMI value) in another DataFrame\n",
    "target = pd.DataFrame(r, columns=[\"BMI\",\"log_BMI\"])\n",
    "target"
   ]
  },
  {
   "cell_type": "code",
   "execution_count": null,
   "metadata": {},
   "outputs": [],
   "source": [
    "## Without a constant\n",
    "\n",
    "X = df[\"age\"]   ## X usually means our input variables (or independent variables)\n",
    "y = target[\"BMI\"] ## Y usually means our output/dependent variable\n",
    "\n",
    "# Note the difference in argument order\n",
    "model = sm.OLS(y, X).fit() ## sm.OLS(output, input)\n",
    "predictions = model.predict(X) # make the predictions by the model\n",
    "\n",
    "# Print out the statistics\n",
    "model.summary()"
   ]
  },
  {
   "cell_type": "code",
   "execution_count": null,
   "metadata": {},
   "outputs": [],
   "source": [
    "# add intercept and more dependent variables\n",
    "X = df[['age','Income','policy','gender']]\n",
    "y = target[\"BMI\"]\n",
    "X = sm.add_constant(X)   ## add an intercept (beta_0) to our model\n",
    "model = sm.OLS(y, X).fit()\n",
    "predictions = model.predict(X)\n",
    "model.summary()"
   ]
  },
  {
   "cell_type": "code",
   "execution_count": null,
   "metadata": {},
   "outputs": [],
   "source": []
  }
 ],
 "metadata": {
  "kernelspec": {
   "display_name": "Python 3",
   "language": "python",
   "name": "python3"
  },
  "language_info": {
   "codemirror_mode": {
    "name": "ipython",
    "version": 3
   },
   "file_extension": ".py",
   "mimetype": "text/x-python",
   "name": "python",
   "nbconvert_exporter": "python",
   "pygments_lexer": "ipython3",
   "version": "3.7.4"
  }
 },
 "nbformat": 4,
 "nbformat_minor": 2
}
